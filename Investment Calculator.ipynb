{
 "cells": [
  {
   "cell_type": "code",
   "execution_count": 17,
   "metadata": {},
   "outputs": [
    {
     "name": "stdout",
     "output_type": "stream",
     "text": [
      "Enter initial investment amount. \n",
      "5000\n"
     ]
    }
   ],
   "source": [
    "import matplotlib.pyplot as plt\n",
    "import pandas as pd\n",
    "p=0\n",
    "e=2.7182818284590452353602874713526624\n",
    "while(True):\n",
    "    p=input(\"Enter initial investment amount. \\n\")\n",
    "    try:\n",
    "        p = float(p)\n",
    "        break\n",
    "    except ValueError:\n",
    "        print(\"Please enter valid number\")"
   ]
  },
  {
   "cell_type": "code",
   "execution_count": 18,
   "metadata": {},
   "outputs": [
    {
     "name": "stdout",
     "output_type": "stream",
     "text": [
      "Enter interest rate (in decimal form). \n",
      ".015\n"
     ]
    }
   ],
   "source": [
    "r=0\n",
    "while(True):\n",
    "    r=input(\"Enter interest rate (in decimal form). \\n\")\n",
    "    try:\n",
    "        r = float(r)\n",
    "        break\n",
    "    except ValueError:\n",
    "        print(\"Please enter valid number\")"
   ]
  },
  {
   "cell_type": "code",
   "execution_count": 19,
   "metadata": {},
   "outputs": [
    {
     "name": "stdout",
     "output_type": "stream",
     "text": [
      "Enter number of years. \n",
      "15\n"
     ]
    }
   ],
   "source": [
    "t=0\n",
    "while(True):\n",
    "    t=input(\"Enter number of years. \\n\")\n",
    "    try:\n",
    "        t = float(t)\n",
    "        break\n",
    "    except ValueError:\n",
    "        print(\"Please enter valid number\")"
   ]
  },
  {
   "cell_type": "code",
   "execution_count": 20,
   "metadata": {},
   "outputs": [
    {
     "name": "stdout",
     "output_type": "stream",
     "text": [
      "Your investment will be worth $6261.613580959321 after 15.0 years. \n",
      " That is a $1261.6135809593206, or 25.232271619186413% increase!\n"
     ]
    }
   ],
   "source": [
    "amount= p*(e**(r*t))\n",
    "print(\"Your investment will be worth ${} after {} years. \\n That is a ${}, or {}% increase!\".format(amount,t,amount-p,(amount-p)*100/p))"
   ]
  },
  {
   "cell_type": "code",
   "execution_count": 21,
   "metadata": {},
   "outputs": [
    {
     "data": {
      "image/png": "[encoded data removed]",
      "text/plain": [
       "<Figure size 432x288 with 1 Axes>"
      ]
     },
     "metadata": {},
     "output_type": "display_data"
    }
   ],
   "source": [
    "# Pie chart\n",
    "labels = ['Initial Investment', 'Interest']\n",
    "sizes = [p/amount,(amount-p)/amount]\n",
    "explode = (0, 0.075)  \n",
    "fig1, ax1 = plt.subplots()\n",
    "ax1.pie(sizes, explode=explode, labels=labels, autopct='%1.1f%%',\n",
    "        shadow=True, startangle=90)\n",
    "# Equal aspect ratio ensures that pie is drawn as a circle\n",
    "ax1.axis('equal')  \n",
    "plt.tight_layout()\n",
    "plt.show()"
   ]
  },
  {
   "cell_type": "code",
   "execution_count": 22,
   "metadata": {},
   "outputs": [
    {
     "name": "stdout",
     "output_type": "stream",
     "text": [
      "The purchasing power of the dollar will likely decrease by about 21% by 2034, making your investment worth $4943.5347499454165 in today's market \n",
      "\n",
      "However, by 2034, your initial investment of $5000.0 would only have the purchasing power of $3947.492675831997 in today's market. It's always smart to invest!\n"
     ]
    },
    {
     "data": {
      "image/png": "[encoded data removed]",
      "text/plain": [
       "<Figure size 432x288 with 1 Axes>"
      ]
     },
     "metadata": {
      "needs_background": "light"
     },
     "output_type": "display_data"
    }
   ],
   "source": [
    "data = pd.read_csv('/Users/andre/Documents/Coding Garbage/prices.txt')\n",
    "data.columns = ['price level (compared 2019 dollar)','year']\n",
    "X=data['year'].values\n",
    "y=data['price level (compared 2019 dollar)']\n",
    "\n",
    "import numpy as np\n",
    "inflateVars=np.polyfit(X,y, 1, w=np.sqrt(y))\n",
    "currYear=2019\n",
    "endYear=int(currYear+t)\n",
    "#y=mx+b\n",
    "m=inflateVars[0]\n",
    "b=inflateVars[1]\n",
    "inflateEquate= m*endYear + b\n",
    "\n",
    "import seaborn as sb\n",
    "sb.scatterplot(X,y)\n",
    "\n",
    "#r^2 = .9617\n",
    "purchasingPower=1/inflateEquate\n",
    "adjustedAmount=amount*purchasingPower\n",
    "adjustedP=p*purchasingPower\n",
    "changeInPurchasingPower=100*(adjustedAmount-amount)/amount\n",
    "changeInPurchasingPower=abs(int(changeInPurchasingPower))\n",
    "print(\"The purchasing power of the dollar will likely decrease by about {}% by {}, making your investment worth ${} in today's market \\n\".format(changeInPurchasingPower,endYear,adjustedAmount))\n",
    "print(\"However, by {}, your initial investment of ${} would only have the purchasing power of ${} in today's market. It's always smart to invest!\".format(endYear,p,adjustedP))\n"
   ]
  },
  {
   "cell_type": "code",
   "execution_count": null,
   "metadata": {},
   "outputs": [],
   "source": []
  }
 ],
 "metadata": {
  "kernelspec": {
   "display_name": "Python 3",
   "language": "python",
   "name": "python3"
  },
  "language_info": {
   "codemirror_mode": {
    "name": "ipython",
    "version": 3
   },
   "file_extension": ".py",
   "mimetype": "text/x-python",
   "name": "python",
   "nbconvert_exporter": "python",
   "pygments_lexer": "ipython3",
   "version": "3.7.4"
  }
 },
 "nbformat": 4,
 "nbformat_minor": 2
}
